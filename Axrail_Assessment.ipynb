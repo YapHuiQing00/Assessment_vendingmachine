{
 "cells": [
  {
   "cell_type": "code",
   "execution_count": 27,
   "id": "4b4836ed-2013-47e6-9e78-274b249d901e",
   "metadata": {},
   "outputs": [],
   "source": [
    "# Create object - Vending Machine\n",
    "class VendingMachine:\n",
    "    def __init__(self, beverages):\n",
    "        self.beverages = beverages\n",
    "        self.inserted_money = 0\n",
    "        self.denominations = [100, 50, 20, 10, 5, 1]\n",
    "\n",
    "    def insert_money(self, amount):\n",
    "        self.inserted_money += amount\n",
    "\n",
    "    def calculate_change(self, price):\n",
    "        change = self.inserted_money - price\n",
    "        if change >= 0:\n",
    "            self.inserted_money = 0\n",
    "            return self.optimal_change(change)\n",
    "        else:\n",
    "            return None\n",
    "\n",
    "    def optimal_change(self, amount):\n",
    "        change = {}\n",
    "        for denomination in self.denominations:\n",
    "            count = amount // denomination\n",
    "            change[denomination] = count\n",
    "            amount %= denomination\n",
    "        return change\n",
    "\n",
    "    def dispense_beverage(self, beverage_code, quantity):\n",
    "        beverage = self.beverages.get(beverage_code)\n",
    "        if not beverage:\n",
    "            return f\"Beverage {beverage_code} not found.\"\n",
    "        elif beverage[\"quantity\"] < quantity:\n",
    "            return f\"Insufficient quantity of {beverage['name']}. Only {beverage['quantity']} available.\"\n",
    "        elif beverage[\"quantity\"] == 0:\n",
    "            return f\"Beverage {beverage['name']} is out of stock.\"\n",
    "        else:\n",
    "            total_price = beverage[\"price\"] * quantity\n",
    "            while self.inserted_money < total_price:\n",
    "                additional_amount = input(\"Insufficient funds. Insert more money (or 'cancel' to cancel): \")\n",
    "                if additional_amount.lower() == 'cancel':\n",
    "                    return \"Purchase canceled.\"\n",
    "                else:\n",
    "                    try:\n",
    "                        additional_amount = float(additional_amount)\n",
    "                        self.insert_money(additional_amount)\n",
    "                    except ValueError:\n",
    "                        print(\"Invalid input. Please enter a valid amount or 'cancel'.\")\n",
    "\n",
    "            change = self.calculate_change(total_price)\n",
    "            beverage[\"quantity\"] -= quantity\n",
    "            if change:\n",
    "                change_str = \"Change: \"\n",
    "                total_change = 0\n",
    "                for denomination, count in change.items():\n",
    "                    if count > 0:\n",
    "                        change_str += f\"{count} x RM{denomination}, \"\n",
    "                        total_change += denomination * count\n",
    "                change_str = change_str[:-2]\n",
    "                return f\"Dispensing {quantity} {beverage['name']}. {change_str} —— Your change is: RM {total_change:.2f}\"\n",
    "            else:\n",
    "                return f\"Beverage not available or insufficient quantity.\"\n",
    "\n",
    "    def display_beverages(self):\n",
    "        for code, beverage in self.beverages.items():\n",
    "            price_formatted = f\"{beverage['price']:.2f}\"\n",
    "            print(f\"{code}: {beverage['name']} - RM {price_formatted} ({beverage['quantity']} available)\")\n",
    "\n",
    "    def start(self):\n",
    "        while True:\n",
    "            self.display_beverages()\n",
    "            beverage_choice = input(\"Enter beverage code (or 'cancel' to exit): \").upper()\n",
    "            if beverage_choice == \"CANCEL\":\n",
    "                break\n",
    "\n",
    "            quantity = 1\n",
    "            while True:\n",
    "                try:\n",
    "                    quantity = int(input(\"Enter quantity (1-10): \"))\n",
    "                    if 1 <= quantity <= 10:\n",
    "                        break\n",
    "                    else:\n",
    "                        print(\"Invalid quantity. Please enter a number between 1 and 15.\")\n",
    "                except ValueError:\n",
    "                    print(\"Invalid input. Please enter a number.\")\n",
    "\n",
    "            amount = float(input(\"Insert money: RM \"))\n",
    "            self.insert_money(amount)\n",
    "\n",
    "            result = self.dispense_beverage(beverage_choice, quantity)\n",
    "            print(result)"
   ]
  },
  {
   "cell_type": "code",
   "execution_count": 28,
   "id": "2d38a0fc-49bf-4400-bd87-a3b186d89468",
   "metadata": {},
   "outputs": [],
   "source": [
    "# Beverage inventory\n",
    "beverages = {\n",
    "    \"BE01\": {\"name\": \"Mineral Water\", \"price\": 1.00, \"quantity\": 10},\n",
    "    \"BE02\": {\"name\": \"Coke\", \"price\": 2.00, \"quantity\": 10},\n",
    "    \"BE03\": {\"name\": \"Sprite\", \"price\": 3.00, \"quantity\": 10},\n",
    "    \"BE04\": {\"name\": \"Milo\", \"price\": 1.00, \"quantity\": 15},\n",
    "    \"BE05\": {\"name\": \"Nescafe\", \"price\": 3.00, \"quantity\": 10},\n",
    "    \"BE06\": {\"name\": \"Soya\", \"price\": 2.00, \"quantity\": 8},\n",
    "}"
   ]
  },
  {
   "cell_type": "code",
   "execution_count": 29,
   "id": "f9058c0f-bdc2-4501-be5d-eb22cbd9001d",
   "metadata": {},
   "outputs": [
    {
     "name": "stdout",
     "output_type": "stream",
     "text": [
      "BE01: Mineral Water - RM 1.00 (10 available)\n",
      "BE02: Coke - RM 2.00 (10 available)\n",
      "BE03: Sprite - RM 3.00 (10 available)\n",
      "BE04: Milo - RM 1.00 (15 available)\n",
      "BE05: Nescafe - RM 3.00 (10 available)\n",
      "BE06: Soya - RM 2.00 (8 available)\n"
     ]
    },
    {
     "name": "stdin",
     "output_type": "stream",
     "text": [
      "Enter beverage code (or 'cancel' to exit):  cancel\n"
     ]
    }
   ],
   "source": [
    "# Create a vending machine instance and start it\n",
    "vending_machine = VendingMachine(beverages)\n",
    "vending_machine.start()"
   ]
  },
  {
   "cell_type": "code",
   "execution_count": 30,
   "id": "f76953c4-1f25-45c6-a9df-237b69ec51c6",
   "metadata": {},
   "outputs": [
    {
     "data": {
      "text/plain": [
       "'\\nNotes/Improvement:\\n1. When first purchase cancelled, re-enter the code, quantity, pay more money and the change will be accumulative to return.\\n'"
      ]
     },
     "execution_count": 30,
     "metadata": {},
     "output_type": "execute_result"
    }
   ],
   "source": [
    "\"\"\"\n",
    "Notes/Improvement:\n",
    "1. When first purchase cancelled, re-enter the code, quantity, pay more money and the change will be accumulative to return.\n",
    "\"\"\""
   ]
  }
 ],
 "metadata": {
  "kernelspec": {
   "display_name": "Python 3 (ipykernel)",
   "language": "python",
   "name": "python3"
  },
  "language_info": {
   "codemirror_mode": {
    "name": "ipython",
    "version": 3
   },
   "file_extension": ".py",
   "mimetype": "text/x-python",
   "name": "python",
   "nbconvert_exporter": "python",
   "pygments_lexer": "ipython3",
   "version": "3.11.7"
  }
 },
 "nbformat": 4,
 "nbformat_minor": 5
}
