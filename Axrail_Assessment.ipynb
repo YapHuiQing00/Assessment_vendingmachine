{
 "cells": [
  {
   "cell_type": "code",
   "execution_count": 7,
   "id": "503d9279-61c5-4e4e-8a66-591fe3be69e9",
   "metadata": {},
   "outputs": [
    {
     "name": "stdout",
     "output_type": "stream",
     "text": [
      "Available Beverages\n",
      "BE01: Mineral Water - RM 1.00 (10 available)\n",
      "BE02: Coke - RM 2.00 (10 available)\n",
      "BE03: Sprite - RM 3.00 (10 available)\n",
      "BE04: Milo - RM 1.00 (15 available)\n",
      "BE05: Nescafe - RM 3.00 (10 available)\n",
      "BE06: Soya - RM 2.00 (8 available)\n"
     ]
    },
    {
     "name": "stdin",
     "output_type": "stream",
     "text": [
      "Enter beverage code BE01\n",
      "Please insert money: RM  1\n"
     ]
    },
    {
     "name": "stdout",
     "output_type": "stream",
     "text": [
      "Dispensing Mineral Water\n",
      "Change RM: 0.00\n",
      "Available Mineral Water: 9\n"
     ]
    }
   ],
   "source": [
    "# AxrailAssessment_Vending Machine Code\n",
    "# Sample beverage inventory\n",
    "beverages = {\n",
    "    \"BE01\": {\"name\": \"Mineral Water\", \"price\": 1.00, \"quantity\": 10}, \n",
    "    \"BE02\": {\"name\":\"Coke\", \"price\": 2.00, \"quantity\": 10},\n",
    "    \"BE03\": {\"name\":\"Sprite\", \"price\": 3.00, \"quantity\": 10}, \n",
    "    \"BE04\": {\"name\":\"Milo\", \"price\": 1.00, \"quantity\": 15},\n",
    "    \"BE05\": {\"name\":\"Nescafe\", \"price\": 3.00, \"quantity\": 10}, \n",
    "    \"BE06\": {\"name\":\"Soya\", \"price\": 2.00, \"quantity\": 8},\n",
    "}\n",
    "\n",
    "# Show List of Beverages\n",
    "print(\"Available Beverages\")\n",
    "for code, beverage in beverages.items():\n",
    "            price_formatted = f\"{beverage['price']:.2f}\"\n",
    "            print(f\"{code}: {beverage['name']} - RM {price_formatted} ({beverage['quantity']} available)\")\n",
    "\n",
    "# Step 1: Choose beverage\n",
    "beverage_choice = input(\"Enter beverage code\")\n",
    "if beverage_choice not in beverages:\n",
    "    print(\"Invalid Code\")\n",
    "    exit()\n",
    "\n",
    "# Step 2: After selection of beverages and pay money\n",
    "selected_beverage = beverages[beverage_choice]\n",
    "price = selected_beverage[\"price\"]\n",
    "\n",
    "inserted_amount = 0\n",
    "while inserted_amount < price:\n",
    "    payment_amount = float(input(\"Please insert money: RM \"))\n",
    "    inserted_amount += payment_amount\n",
    "\n",
    "if inserted_amount >= price:\n",
    "    change = inserted_amount - price\n",
    "    selected_beverage[\"quantity\"] -= 1\n",
    "    print(f\"Dispensing {selected_beverage['name']}\")\n",
    "    print(f\"Change RM: {change:.2f}\")\n",
    "    print(f\"Available {selected_beverage['name']}: {selected_beverage['quantity']}\")"
   ]
  },
  {
   "cell_type": "code",
   "execution_count": 9,
   "id": "9dbb2d2d-9841-418b-a1e7-fc6c7fe7985f",
   "metadata": {},
   "outputs": [
    {
     "data": {
      "text/plain": [
       "'\\nNotes/Improvement:\\n1. Input must exactly same.\\n2. Add - enter quantity they want\\n'"
      ]
     },
     "execution_count": 9,
     "metadata": {},
     "output_type": "execute_result"
    }
   ],
   "source": [
    "\"\"\"\n",
    "Notes/Improvement:\n",
    "1. Input must exactly same.\n",
    "2. Add - enter quantity they want\n",
    "\"\"\""
   ]
  }
 ],
 "metadata": {
  "kernelspec": {
   "display_name": "Python 3 (ipykernel)",
   "language": "python",
   "name": "python3"
  },
  "language_info": {
   "codemirror_mode": {
    "name": "ipython",
    "version": 3
   },
   "file_extension": ".py",
   "mimetype": "text/x-python",
   "name": "python",
   "nbconvert_exporter": "python",
   "pygments_lexer": "ipython3",
   "version": "3.11.7"
  }
 },
 "nbformat": 4,
 "nbformat_minor": 5
}
